{
 "cells": [
  {
   "cell_type": "markdown",
   "metadata": {},
   "source": [
    "问题背景\n",
    "“超级引擎”是一家专门生产汽车引擎的公司，根据政府发布的新排放要求，引擎排放平均值要低于20ppm， （ppm是英文百万分之一的缩写，这里我们只要理解为是按照环保要求汽车尾气中碳氢化合物要低于20ppm）。\n",
    "\n",
    "公司制造出10台引擎供测试使用，每一台的排放水平如下：\n",
    "\n",
    "15.6 16.2 22.5 20.5 16.4 19.4 16.6 17.9 12.7 13.9\n",
    "\n",
    "怎么知道，公司生产的引擎是否符合政府规定呢？\n",
    "\n",
    "如果你是这家公司的数据分析师，该怎么办呢？"
   ]
  },
  {
   "cell_type": "markdown",
   "metadata": {},
   "source": [
    "一、描述统计分析\n",
    "我们开展调查研究并计算统计结果时，我们会在报告的第一部分进行描述统计分析，例如平均值和标准差。\n",
    "\n",
    "描述统计量是研究的核心。告诉我们研究中发生的情况，应该始终报告出来。"
   ]
  },
  {
   "cell_type": "code",
   "execution_count": 1,
   "metadata": {},
   "outputs": [],
   "source": [
    "import pandas as pd\n",
    "import numpy as np\n",
    "import matplotlib.pyplot as plt"
   ]
  },
  {
   "cell_type": "code",
   "execution_count": 2,
   "metadata": {},
   "outputs": [],
   "source": [
    "dataSer=pd.Series([15.6,16.2,22.5,20.5,16.4,19.4,16.6,17.9,12.7,13.9])"
   ]
  },
  {
   "cell_type": "code",
   "execution_count": 3,
   "metadata": {},
   "outputs": [],
   "source": [
    "#计算样本均值和标准差\n",
    "sample_mean=dataSer.mean()\n",
    "sample_std=dataSer.std()"
   ]
  },
  {
   "cell_type": "code",
   "execution_count": 4,
   "metadata": {},
   "outputs": [
    {
     "name": "stdout",
     "output_type": "stream",
     "text": [
      "样本平均值是： 17.169999999999998 单位：ppm\n",
      "样本标准差是： 2.9814426038413018 单位：ppm\n"
     ]
    }
   ],
   "source": [
    "print('样本平均值是：',sample_mean,'单位：ppm')\n",
    "print('样本标准差是：',sample_std,'单位：ppm')"
   ]
  },
  {
   "cell_type": "code",
   "execution_count": 5,
   "metadata": {},
   "outputs": [],
   "source": [
    "# 数据分布的类型"
   ]
  },
  {
   "cell_type": "code",
   "execution_count": 8,
   "metadata": {},
   "outputs": [
    {
     "data": {
      "image/png": "[encoded data removed]",
      "text/plain": [
       "<Figure size 432x288 with 1 Axes>"
      ]
     },
     "metadata": {
      "needs_background": "light"
     },
     "output_type": "display_data"
    }
   ],
   "source": [
    "import seaborn as sns\n",
    "\n",
    "sns.distplot(dataSer)\n",
    "plt.title('data')\n",
    "plt.grid(True)\n",
    "plt.show()"
   ]
  },
  {
   "cell_type": "markdown",
   "metadata": {},
   "source": [
    "数据集近似正态分布，满足t分布的使用条件，所以可以认为抽样分布是自由度df=9（10-1）的t分布"
   ]
  },
  {
   "cell_type": "markdown",
   "metadata": {},
   "source": [
    "检验方向\n",
    "\n",
    "本检验考虑的是是否小于20ppm，固应属于单尾检验中的左尾检验。\n",
    "\n",
    "2.证据是什么？\n",
    "\n",
    "在零假设成立的前提下，得到样本平均值的概率p是多少？ 计算p值的步骤如下：\n",
    "\n",
    "1）计算出标准误差\n",
    "\n",
    "标准误差=样本标准差除以样本大小n的开方。这里的样本标准差是用来估计总体标准差的\n",
    "\n",
    "2）计算出t值\n",
    "\n",
    "t=（样本平均值-总体平均值）/标准误差\n",
    "\n",
    "3）根据t值，查找t表格，得到概率p值"
   ]
  },
  {
   "cell_type": "markdown",
   "metadata": {},
   "source": [
    "方法一：手动计算"
   ]
  },
  {
   "cell_type": "code",
   "execution_count": 9,
   "metadata": {},
   "outputs": [],
   "source": [
    "#样本大小\n",
    "n=10\n",
    "#标准误差=样本标准差/(n的开方)\n",
    "se =sample_std/(np.sqrt(n))"
   ]
  },
  {
   "cell_type": "markdown",
   "metadata": {},
   "source": [
    "计算t值\n",
    "t=（样本均值-总体均值）/标准误差"
   ]
  },
  {
   "cell_type": "code",
   "execution_count": 12,
   "metadata": {},
   "outputs": [],
   "source": [
    "#总体均值：这里可以认为是政府发布的标准20\n",
    "pop_mean=20\n",
    "\n",
    "#t计算\n",
    "t=(sample_mean-20)/se"
   ]
  },
  {
   "cell_type": "code",
   "execution_count": 13,
   "metadata": {},
   "outputs": [
    {
     "data": {
      "text/plain": [
       "(0.9428149341201592, -3.001649525885985)"
      ]
     },
     "execution_count": 13,
     "metadata": {},
     "output_type": "execute_result"
    }
   ],
   "source": [
    "se,t"
   ]
  },
  {
   "cell_type": "markdown",
   "metadata": {},
   "source": [
    "方法二：用python统计包scipy自动计算"
   ]
  },
  {
   "cell_type": "markdown",
   "metadata": {},
   "source": [
    "用scipy计算出的是：双尾检验\n",
    "单（1samp）样本t检验（ttest_1samp）：https://docs.scipy.org/doc/scipy/reference/generated/scipy.stats.ttest_1samp.html\n",
    "相关（related）样本t检验（ttest_rel）：https://docs.scipy.org/doc/scipy/reference/generated/scipy.stats.ttest_rel.html\n",
    "双独立（independent）样本t检验（ttest_ind）：https://docs.scipy.org/doc/scipy/reference/generated/scipy.stats.ttest_ind.html"
   ]
  },
  {
   "cell_type": "code",
   "execution_count": null,
   "metadata": {},
   "outputs": [],
   "source": [
    "from scipy import stats"
   ]
  },
  {
   "cell_type": "code",
   "execution_count": 14,
   "metadata": {},
   "outputs": [],
   "source": [
    "pop_mean=20 #总体均值为20"
   ]
  },
  {
   "cell_type": "markdown",
   "metadata": {},
   "source": [
    "ttest_1samp：单独样本t检验,\n",
    "\n",
    "返回的第1个值t是假设检验计算出的（t值）,\n",
    "\n",
    "第2个值p是双尾检验的p值"
   ]
  },
  {
   "cell_type": "code",
   "execution_count": 15,
   "metadata": {},
   "outputs": [
    {
     "name": "stdout",
     "output_type": "stream",
     "text": [
      "t值= -3.001649525885985 双尾检验的p值= 0.014916414248897527\n"
     ]
    }
   ],
   "source": [
    "t,p_twoTail =stats.ttest_1samp(dataSer,pop_mean)\n",
    "\n",
    "print('t值=',t,'双尾检验的p值=',p_twoTail) "
   ]
  },
  {
   "cell_type": "markdown",
   "metadata": {},
   "source": [
    "直接用scipy计算出的是双尾检验的t值和p值，但是这里是左尾检验。\n",
    "\n",
    "根据对称性，双尾的p值是单尾的2倍"
   ]
  },
  {
   "cell_type": "code",
   "execution_count": 16,
   "metadata": {},
   "outputs": [],
   "source": [
    "p_oneTail=p_twoTail / 2"
   ]
  },
  {
   "cell_type": "code",
   "execution_count": 25,
   "metadata": {},
   "outputs": [
    {
     "data": {
      "text/plain": [
       "('单尾检验的p值=', 0.0074582071244487635)"
      ]
     },
     "execution_count": 25,
     "metadata": {},
     "output_type": "execute_result"
    }
   ],
   "source": [
    "'单尾检验的p值=',p_oneTail"
   ]
  },
  {
   "cell_type": "markdown",
   "metadata": {},
   "source": [
    "3.判断标准是什么？"
   ]
  },
  {
   "cell_type": "code",
   "execution_count": 26,
   "metadata": {},
   "outputs": [],
   "source": [
    "#判断标准（显著水平）使用alpha=5%\n",
    "alpha=0.05"
   ]
  },
  {
   "cell_type": "markdown",
   "metadata": {},
   "source": [
    "4.做出结论"
   ]
  },
  {
   "cell_type": "markdown",
   "metadata": {},
   "source": [
    "左尾判断条件：t < 0 and p < 判断标准（显著水平）alpha\n",
    "\n",
    "右尾判断条件：t > 0 and p < 判断标准（显著水平）alpha"
   ]
  },
  {
   "cell_type": "code",
   "execution_count": 27,
   "metadata": {},
   "outputs": [
    {
     "name": "stdout",
     "output_type": "stream",
     "text": [
      "拒绝零假设，有统计显著，也就是汽车引擎排放满足标准\n"
     ]
    }
   ],
   "source": [
    "if(t < 0 and p_oneTail < alpha): \n",
    "    #左尾判断条件\n",
    "    print('拒绝零假设，有统计显著，也就是汽车引擎排放满足标准')\n",
    "else: \n",
    "    print('接受零假设，没有统计显著，也就是汽车引擎排放不满足标准')"
   ]
  },
  {
   "cell_type": "markdown",
   "metadata": {},
   "source": [
    "5.置信区间"
   ]
  },
  {
   "cell_type": "markdown",
   "metadata": {},
   "source": [
    "1）置信水平对应的 t 值（t_ci）\n",
    "\n",
    "    查t表格可以得到，95%的置信水平，自由度是n-1对应的t值\n",
    "\n",
    "    （查的自由度为9时的双边t=2.262）\n",
    " \n",
    " 2）计算上下限\n",
    " \n",
    "    置信区间上限a=样本平均值 - t_ci ×标准误差\n",
    "\n",
    "    置信区间下限b=样本平均值 - t_ci ×标准误差\n",
    " \n",
    " "
   ]
  },
  {
   "cell_type": "code",
   "execution_count": 28,
   "metadata": {},
   "outputs": [],
   "source": [
    "t_ci=2.262"
   ]
  },
  {
   "cell_type": "code",
   "execution_count": 33,
   "metadata": {},
   "outputs": [],
   "source": [
    "#使用scipy计算标准误差\n",
    "se=stats.sem(dataSer)"
   ]
  },
  {
   "cell_type": "code",
   "execution_count": 34,
   "metadata": {},
   "outputs": [],
   "source": [
    "a=sample_mean-t_ci*se\n",
    "b=sample_mean+t_ci*se"
   ]
  },
  {
   "cell_type": "code",
   "execution_count": 35,
   "metadata": {},
   "outputs": [
    {
     "name": "stdout",
     "output_type": "stream",
     "text": [
      "单个平均值的置信区间，95置信水平 CI=(15.037353,19.302647)\n"
     ]
    }
   ],
   "source": [
    "print('单个平均值的置信区间，95置信水平 CI=(%f,%f)' % (a,b))"
   ]
  },
  {
   "cell_type": "markdown",
   "metadata": {},
   "source": [
    "6.效应量\n",
    "\n",
    "    一般需要在报告中给出效应量（effect size）。\n",
    "    \n",
    "    什么是效应量呢？\n",
    "    \n",
    "    效应量是指处理效应的大小，例如药物A比药物B效果显著。度量效应量有很多种，但大多数都属于两大主要类别。\n",
    "    \n",
    "    1）第一种叫做差异度量\n",
    "    例如在对比平均值时，衡量效应大小的常见标准之一是Cohen's d\n",
    "    \n",
    "    Cohen's d = （样本平均值1-样本平均值2) / 标准差\n",
    "\n",
    "    Cohen's d 除以的是标准差，也就是以标准差为单位，样本平均值和总体平均值之间相差多少。\n",
    "    \n",
    "    2）第二种叫做相关度度量\n",
    "\n",
    "    例如R平方，表示某个变量的变化比例与另一变量的关系。可以用t检验的信息推出R平方的公式，这里的t值从t检验中获得的值，df是自由度。\n",
    "    \n",
    "    r2=t2 / (t2+df),其中r2是指r的平方，t2是t的平方\n",
    "    \n",
    "    如果r平方等于20%，表示我们可以说通过知道另一个变量能够接受相关变量20%的变化情况\n",
    "    "
   ]
  },
  {
   "cell_type": "markdown",
   "metadata": {},
   "source": [
    "效应量：差异指标Cohen's d"
   ]
  },
  {
   "cell_type": "code",
   "execution_count": 31,
   "metadata": {},
   "outputs": [],
   "source": [
    "d=(sample_mean - pop_mean) / sample_std"
   ]
  },
  {
   "cell_type": "markdown",
   "metadata": {},
   "source": [
    "效应量：相关度指标R2"
   ]
  },
  {
   "cell_type": "code",
   "execution_count": 32,
   "metadata": {},
   "outputs": [
    {
     "name": "stdout",
     "output_type": "stream",
     "text": [
      "d= -0.9492049239364257\n",
      "R2= 0.5002748453994631\n"
     ]
    }
   ],
   "source": [
    "#样本大小\n",
    "n=10\n",
    "#自由度\n",
    "df=n-1\n",
    "R2=(t*t)/(t*t+df)\n",
    "\n",
    "print('d=',d)\n",
    "print('R2=',R2)"
   ]
  },
  {
   "cell_type": "code",
   "execution_count": null,
   "metadata": {},
   "outputs": [],
   "source": []
  }
 ],
 "metadata": {
  "kernelspec": {
   "display_name": "Python 3",
   "language": "python",
   "name": "python3"
  },
  "language_info": {
   "codemirror_mode": {
    "name": "ipython",
    "version": 3
   },
   "file_extension": ".py",
   "mimetype": "text/x-python",
   "name": "python",
   "nbconvert_exporter": "python",
   "pygments_lexer": "ipython3",
   "version": "3.7.3"
  }
 },
 "nbformat": 4,
 "nbformat_minor": 2
}
